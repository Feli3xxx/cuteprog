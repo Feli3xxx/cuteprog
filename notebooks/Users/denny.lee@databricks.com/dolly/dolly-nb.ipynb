{
 "cells": [
  {
   "cell_type": "markdown",
   "metadata": {
    "application/vnd.databricks.v1+cell": {
     "cellMetadata": {},
     "inputWidgets": {},
     "nuid": "65c5afca-0226-4ac8-bf77-5823e2782ea8",
     "showTitle": false,
     "title": ""
    }
   },
   "source": [
    "## Testing Dolly\n",
    "Reference: https://huggingface.co/databricks/dolly-v2-3b\n",
    "\n",
    "The following tests were run on 1-3 worker nodes and 1 driver using `Standard_NC24s_v3` instances with 448 GB RAM and 4 GPUs"
   ]
  },
  {
   "cell_type": "code",
   "execution_count": 0,
   "metadata": {
    "application/vnd.databricks.v1+cell": {
     "cellMetadata": {
      "byteLimit": 2048000,
      "rowLimit": 10000
     },
     "inputWidgets": {},
     "nuid": "2a1512a2-700b-4e03-af1a-dcc3d124e8d2",
     "showTitle": false,
     "title": ""
    }
   },
   "outputs": [
    {
     "output_type": "stream",
     "name": "stdout",
     "output_type": "stream",
     "text": [
      "Python interpreter will be restarted.\nPython interpreter will be restarted.\n"
     ]
    }
   ],
   "source": [
    "%pip install accelerate>=0.12.0 transformers[torch]==4.25.1"
   ]
  },
  {
   "cell_type": "code",
   "execution_count": 0,
   "metadata": {
    "application/vnd.databricks.v1+cell": {
     "cellMetadata": {
      "byteLimit": 2048000,
      "rowLimit": 10000
     },
     "inputWidgets": {},
     "nuid": "ddb345ee-b108-4441-8f51-5e557d130548",
     "showTitle": false,
     "title": ""
    }
   },
   "outputs": [
    {
     "output_type": "display_data",
     "data": {
      "application/vnd.jupyter.widget-view+json": {
       "model_id": "4abc6584bc5446498c9508336a1449a0",
       "version_major": 2,
       "version_minor": 0
      },
      "text/plain": [
       "Downloading (…)lve/main/config.json:   0%|          | 0.00/820 [00:00<?, ?B/s]"
      ]
     },
     "metadata": {
      "application/vnd.databricks.v1+output": {
       "addedWidgets": {},
       "arguments": {},
       "data": {
        "application/vnd.jupyter.widget-view+json": {
         "model_id": "4abc6584bc5446498c9508336a1449a0",
         "version_major": 2,
         "version_minor": 0
        },
        "text/plain": "Downloading (…)lve/main/config.json:   0%|          | 0.00/820 [00:00<?, ?B/s]"
       },
       "datasetInfos": [],
       "executionCount": null,
       "metadata": {
        "kernelSessionId": "0eb24f5f-dcd2993f286166218e13d38b"
       },
       "removedWidgets": [],
       "type": "mimeBundle"
      }
     },
     "output_type": "display_data"
    },
    {
     "output_type": "display_data",
     "data": {
      "application/vnd.jupyter.widget-view+json": {
       "model_id": "d93ec698150341a7b54146d35b2473ff",
       "version_major": 2,
       "version_minor": 0
      },
      "text/plain": [
       "Downloading (…)instruct_pipeline.py:   0%|          | 0.00/9.10k [00:00<?, ?B/s]"
      ]
     },
     "metadata": {
      "application/vnd.databricks.v1+output": {
       "addedWidgets": {},
       "arguments": {},
       "data": {
        "application/vnd.jupyter.widget-view+json": {
         "model_id": "d93ec698150341a7b54146d35b2473ff",
         "version_major": 2,
         "version_minor": 0
        },
        "text/plain": "Downloading (…)instruct_pipeline.py:   0%|          | 0.00/9.10k [00:00<?, ?B/s]"
       },
       "datasetInfos": [],
       "executionCount": null,
       "metadata": {
        "kernelSessionId": "0eb24f5f-dcd2993f286166218e13d38b"
       },
       "removedWidgets": [],
       "type": "mimeBundle"
      }
     },
     "output_type": "display_data"
    },
    {
     "output_type": "display_data",
     "data": {
      "application/vnd.jupyter.widget-view+json": {
       "model_id": "19d0138b7e5a4225a9407d25353f87e1",
       "version_major": 2,
       "version_minor": 0
      },
      "text/plain": [
       "Downloading (…)\"pytorch_model.bin\";:   0%|          | 0.00/5.68G [00:00<?, ?B/s]"
      ]
     },
     "metadata": {
      "application/vnd.databricks.v1+output": {
       "addedWidgets": {},
       "arguments": {},
       "data": {
        "application/vnd.jupyter.widget-view+json": {
         "model_id": "19d0138b7e5a4225a9407d25353f87e1",
         "version_major": 2,
         "version_minor": 0
        },
        "text/plain": "Downloading (…)\"pytorch_model.bin\";:   0%|          | 0.00/5.68G [00:00<?, ?B/s]"
       },
       "datasetInfos": [],
       "executionCount": null,
       "metadata": {
        "kernelSessionId": "0eb24f5f-dcd2993f286166218e13d38b"
       },
       "removedWidgets": [],
       "type": "mimeBundle"
      }
     },
     "output_type": "display_data"
    },
    {
     "output_type": "display_data",
     "data": {
      "application/vnd.jupyter.widget-view+json": {
       "model_id": "d83723e3c92f4a28b810ea62e0cceec5",
       "version_major": 2,
       "version_minor": 0
      },
      "text/plain": [
       "Downloading (…)okenizer_config.json:   0%|          | 0.00/450 [00:00<?, ?B/s]"
      ]
     },
     "metadata": {
      "application/vnd.databricks.v1+output": {
       "addedWidgets": {},
       "arguments": {},
       "data": {
        "application/vnd.jupyter.widget-view+json": {
         "model_id": "d83723e3c92f4a28b810ea62e0cceec5",
         "version_major": 2,
         "version_minor": 0
        },
        "text/plain": "Downloading (…)okenizer_config.json:   0%|          | 0.00/450 [00:00<?, ?B/s]"
       },
       "datasetInfos": [],
       "executionCount": null,
       "metadata": {
        "kernelSessionId": "0eb24f5f-dcd2993f286166218e13d38b"
       },
       "removedWidgets": [],
       "type": "mimeBundle"
      }
     },
     "output_type": "display_data"
    },
    {
     "output_type": "display_data",
     "data": {
      "application/vnd.jupyter.widget-view+json": {
       "model_id": "b7170678a50e4883918d27a39521b935",
       "version_major": 2,
       "version_minor": 0
      },
      "text/plain": [
       "Downloading (…)/main/tokenizer.json:   0%|          | 0.00/2.11M [00:00<?, ?B/s]"
      ]
     },
     "metadata": {
      "application/vnd.databricks.v1+output": {
       "addedWidgets": {},
       "arguments": {},
       "data": {
        "application/vnd.jupyter.widget-view+json": {
         "model_id": "b7170678a50e4883918d27a39521b935",
         "version_major": 2,
         "version_minor": 0
        },
        "text/plain": "Downloading (…)/main/tokenizer.json:   0%|          | 0.00/2.11M [00:00<?, ?B/s]"
       },
       "datasetInfos": [],
       "executionCount": null,
       "metadata": {
        "kernelSessionId": "0eb24f5f-dcd2993f286166218e13d38b"
       },
       "removedWidgets": [],
       "type": "mimeBundle"
      }
     },
     "output_type": "display_data"
    },
    {
     "output_type": "display_data",
     "data": {
      "application/vnd.jupyter.widget-view+json": {
       "model_id": "41a0d554b5064043b665b667d05829ee",
       "version_major": 2,
       "version_minor": 0
      },
      "text/plain": [
       "Downloading (…)cial_tokens_map.json:   0%|          | 0.00/228 [00:00<?, ?B/s]"
      ]
     },
     "metadata": {
      "application/vnd.databricks.v1+output": {
       "addedWidgets": {},
       "arguments": {},
       "data": {
        "application/vnd.jupyter.widget-view+json": {
         "model_id": "41a0d554b5064043b665b667d05829ee",
         "version_major": 2,
         "version_minor": 0
        },
        "text/plain": "Downloading (…)cial_tokens_map.json:   0%|          | 0.00/228 [00:00<?, ?B/s]"
       },
       "datasetInfos": [],
       "executionCount": null,
       "metadata": {
        "kernelSessionId": "0eb24f5f-dcd2993f286166218e13d38b"
       },
       "removedWidgets": [],
       "type": "mimeBundle"
      }
     },
     "output_type": "display_data"
    }
   ],
   "source": [
    "import torch\n",
    "from transformers import pipeline\n",
    "\n",
    "generate_text = pipeline(model=\"databricks/dolly-v2-3b\", torch_dtype=torch.bfloat16, trust_remote_code=True, device_map=\"auto\")"
   ]
  },
  {
   "cell_type": "code",
   "execution_count": 0,
   "metadata": {
    "application/vnd.databricks.v1+cell": {
     "cellMetadata": {
      "byteLimit": 2048000,
      "rowLimit": 10000
     },
     "inputWidgets": {},
     "nuid": "dee86015-64f9-49ef-9364-be4c625aa7af",
     "showTitle": false,
     "title": ""
    }
   },
   "outputs": [
    {
     "output_type": "stream",
     "name": "stdout",
     "output_type": "stream",
     "text": [
      "Nuclear fission is when a nucleus splits in two or some of the nucleus splits in two or more smaller nuclei. For example, rubidium (Rb) is a light, odorless, trace element and the nucleus of the atom of Rb contains a small core with positive electrical charge surrounded by a loose ring of neutrons and protons. This configuration is called isotopes of rubidium. If an electron is hit by a neutron at the loose neutron ring, two nuclei are formed: a heavier nucleus made of the positive core and the neutron (deuterium), and a lighter nucleus made of two bound protons and two neutrons. The nucleus breaks in two because the two neutrons are no longer attracted to the two protons, and the two bound neutrons join the two protons to create a much more massive nucleus, one with a lower number of neutrons, that can trigger a chain reaction.\n\nNuclear fusion is when two nuclei combine, often to form another more exotic nucleus called a Helium-4 nucleus. The hydrogen and helium of the sun are formed by fusion. Nuclear fusion can occur at relatively low temperatures where the density of the nuclei involved is sufficient. When two nuclei come close enough, neutron-proton pairs can be generated from the nucleus that much\n"
     ]
    }
   ],
   "source": [
    "res = generate_text(\"Explain to me the difference between nuclear fission and fusion.\")\n",
    "print(res[0][\"generated_text\"])"
   ]
  },
  {
   "cell_type": "code",
   "execution_count": 0,
   "metadata": {
    "application/vnd.databricks.v1+cell": {
     "cellMetadata": {
      "byteLimit": 2048000,
      "rowLimit": 10000
     },
     "inputWidgets": {},
     "nuid": "91356626-64d2-4cc8-bc36-913bd1cc085a",
     "showTitle": false,
     "title": ""
    }
   },
   "outputs": [
    {
     "output_type": "stream",
     "name": "stdout",
     "output_type": "stream",
     "text": [
      "Neil Armstrong, 1969\n"
     ]
    }
   ],
   "source": [
    "res = generate_text(\"The first man on the moon was\")\n",
    "print(res[0][\"generated_text\"])"
   ]
  },
  {
   "cell_type": "code",
   "execution_count": 0,
   "metadata": {
    "application/vnd.databricks.v1+cell": {
     "cellMetadata": {
      "byteLimit": 2048000,
      "rowLimit": 10000
     },
     "inputWidgets": {},
     "nuid": "1fc3736a-16ea-4df8-be45-44ec8fe05e48",
     "showTitle": false,
     "title": ""
    }
   },
   "outputs": [
    {
     "output_type": "stream",
     "name": "stdout",
     "output_type": "stream",
     "text": [
      "Bike Shop\n"
     ]
    }
   ],
   "source": [
    "res = generate_text(\"Great pun names for a coffee shop run by cyclists:\")\n",
    "print(res[0][\"generated_text\"])"
   ]
  },
  {
   "cell_type": "code",
   "execution_count": 0,
   "metadata": {
    "application/vnd.databricks.v1+cell": {
     "cellMetadata": {
      "byteLimit": 2048000,
      "rowLimit": 10000
     },
     "inputWidgets": {},
     "nuid": "5aeb3460-3861-4195-b16a-7af4dbafec73",
     "showTitle": false,
     "title": ""
    }
   },
   "outputs": [
    {
     "output_type": "stream",
     "name": "stdout",
     "output_type": "stream",
     "text": [
      "The best beans have bright green color, a fine grind, no blemishes, sweet, gentle flavor and low acid. Generally, the higher the altitude, the better the bean.\n"
     ]
    }
   ],
   "source": [
    "res = generate_text(\"What makes as great espresso bean?\")\n",
    "print(res[0][\"generated_text\"])"
   ]
  },
  {
   "cell_type": "code",
   "execution_count": 0,
   "metadata": {
    "application/vnd.databricks.v1+cell": {
     "cellMetadata": {
      "byteLimit": 2048000,
      "rowLimit": 10000
     },
     "inputWidgets": {},
     "nuid": "b958fbb7-f6ba-410e-9749-a8cf5154f49f",
     "showTitle": false,
     "title": ""
    }
   },
   "outputs": [
    {
     "output_type": "stream",
     "name": "stdout",
     "output_type": "stream",
     "text": [
      "Here is a list of techniques that can make a great espresso:\n- use low profile coffee grinders for best extraction\n- heat the coffee just before extracting the last drops \n- use dedicated espresso machines with \"tad\" or \"bourrondi\" size grinders \n- use custom grind settings for each espresso you make\n"
     ]
    }
   ],
   "source": [
    "res = generate_text(\"What are the techniques that make a great espresso\")\n",
    "print(res[0][\"generated_text\"])"
   ]
  },
  {
   "cell_type": "markdown",
   "metadata": {
    "application/vnd.databricks.v1+cell": {
     "cellMetadata": {},
     "inputWidgets": {},
     "nuid": "06acfa21-6ccb-4257-a7b1-56f3be223474",
     "showTitle": false,
     "title": ""
    }
   },
   "source": [
    "## Responses by other LLMs\n",
    "\n",
    "What are the techniques that make a great espresso?\n",
    "\n",
    "### gpt-4\n",
    "```\n",
    "1. Choose the right beans: Use freshly roasted, high-quality espresso beans for the best flavor. Beans should be roasted within the past two weeks and stored in an airtight container.\n",
    "\n",
    "2. Grind the beans correctly: Grind the beans to a fine consistency, similar to powdered sugar. Use a burr grinder for consistent particle size, and grind the beans right before brewing to ensure maximum freshness.\n",
    "\n",
    "3. Measure the coffee grounds accurately: The standard ratio for espresso is 1:2, meaning one part coffee grounds to two parts water. For a double shot of espresso, use 18-20 grams of coffee grounds.\n",
    "\n",
    "4. Tamp the grounds evenly: Tamping is the process of compressing the coffee grounds in the portafilter. Apply even pressure (about 30 pounds of force) to create a level and compact coffee bed. This ensures even extraction and a balanced shot.\n",
    "\n",
    "5. Preheat the machine and portafilter: Allow your espresso machine to warm up\n",
    "```\n",
    "\n",
    "### pythia-12b (Dolly is derived from this one)\n",
    "```\n",
    " Espresso is a very simple matter. First real espresso tastes amazing in small quantity, especially if you are getting used to search this city's pre...\n",
    "Train yourself to establish a clear goal and effective routine for making espresso. You must make the stage sympathy conscious so you understand what you're accomplishing before you do it. This will consciously set you up for success. As soon as you understand the right routine, you are prepared to go. And it is very simple to train yourself. Each of us has a preferred flavor of coffee. You can begin with totally tasteless and then subtly flavor it in steps once you're used to doing all these, it takes no more than two weeks. Double espressos are great menu fit for 2 apprentices! Watch as we cover intimately how we make a powerful regular for 2 espressos quickly.\n",
    "Espresso has actually become a daily/weekly/ or an occasional custom.\n",
    "Watch as\n",
    "```\n",
    "\n",
    "### llama-7B (optimized for Mac m1)\n",
    "```\n",
    "Our espresso machine training includes the most popular manual espresso machines, La Pavoni 1926/1935 and Faema E71.\n",
    "We have been teaching this course for years now. We have trained many baristas around the world to make espresso. You will learn how to prepare a great espresso with all of our expertise gathered throughout the year.\n",
    "The course is taught by one of the founders of Kakao Coffee School and the owner of KAKAO, Mr. Hyunseok Jeong. The training includes a\n",
    "```"
   ]
  },
  {
   "cell_type": "code",
   "execution_count": 0,
   "metadata": {
    "application/vnd.databricks.v1+cell": {
     "cellMetadata": {},
     "inputWidgets": {},
     "nuid": "ff14ff20-5946-4b32-a36b-e5911e18f37e",
     "showTitle": false,
     "title": ""
    }
   },
   "outputs": [],
   "source": []
  }
 ],
 "metadata": {
  "application/vnd.databricks.v1+notebook": {
   "dashboards": [],
   "language": "python",
   "notebookMetadata": {
    "pythonIndentUnit": 2
   },
   "notebookName": "dolly-nb",
   "notebookOrigID": 230107900632611,
   "widgets": {}
  }
 },
 "nbformat": 4,
 "nbformat_minor": 0
}
